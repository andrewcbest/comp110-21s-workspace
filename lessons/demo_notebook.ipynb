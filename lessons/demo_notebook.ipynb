{
 "metadata": {
  "language_info": {
   "codemirror_mode": {
    "name": "ipython",
    "version": 3
   },
   "file_extension": ".py",
   "mimetype": "text/x-python",
   "name": "python",
   "nbconvert_exporter": "python",
   "pygments_lexer": "ipython3",
   "version": "3.9.1-final"
  },
  "orig_nbformat": 2,
  "kernelspec": {
   "name": "python3",
   "display_name": "Python 3.9.1 64-bit",
   "metadata": {
    "interpreter": {
     "hash": "aee8b7b246df8f9039afb4144a1f6fd8d2ca17a180786b69acc140d282b71a49"
    }
   }
  }
 },
 "nbformat": 4,
 "nbformat_minor": 2,
 "cells": [
  {
   "source": [
    "# My first notebook\n",
    "\n",
    "This cell will render as _rich-formatted text_ when it is evaluated. In order to make a cell markdown, click the M-down arrow button on the cell header. \n",
    "\n",
    "## Subheadings and other formats\n",
    "\n",
    "* Bulleted lists\n",
    "* **bolded text**\n",
    "* [links to web pages](https://google.com)"
   ],
   "cell_type": "markdown",
   "metadata": {}
  },
  {
   "cell_type": "code",
   "execution_count": 1,
   "metadata": {},
   "outputs": [
    {
     "output_type": "stream",
     "name": "stdout",
     "text": [
      "Hello, Bot\n"
     ]
    }
   ],
   "source": [
    "name: str = \"Bot\"\n",
    "print(f\"Hello, {name}\")"
   ]
  },
  {
   "source": [
    "## Keyboard Shortcuts to Know\n",
    "\n",
    "`Control + Enter` - Evaluates the current cell and keeps focus in the current cell. \n",
    "\n",
    "`Shift + Enter` - Evaluates the current cell and moves focus to the next cell. "
   ],
   "cell_type": "markdown",
   "metadata": {}
  },
  {
   "source": [
    "print(f\"Wow, {name}, you are doing great!\")"
   ],
   "cell_type": "code",
   "metadata": {},
   "execution_count": 2,
   "outputs": [
    {
     "output_type": "stream",
     "name": "stdout",
     "text": [
      "Wow, Bot, you are doing great!\n"
     ]
    }
   ]
  },
  {
   "source": [
    "## The last expression of a cell is printed by default"
   ],
   "cell_type": "markdown",
   "metadata": {}
  },
  {
   "cell_type": "code",
   "execution_count": 7,
   "metadata": {},
   "outputs": [
    {
     "output_type": "stream",
     "name": "stdout",
     "text": [
      "Multiple print statements lead to multiple lines in a cell output\nThe result is\n"
     ]
    },
    {
     "output_type": "execute_result",
     "data": {
      "text/plain": [
       "69"
      ]
     },
     "metadata": {},
     "execution_count": 7
    }
   ],
   "source": [
    "result: float = 69\n",
    "print(\"Multiple print statements lead to multiple lines in a cell output\")\n",
    "print(\"The result is\")\n",
    "result"
   ]
  }
 ]
}